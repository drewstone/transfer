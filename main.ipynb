{
 "cells": [
  {
   "cell_type": "code",
   "execution_count": 4,
   "metadata": {},
   "outputs": [],
   "source": [
    "import numpy as np\n",
    "import pandas as pd\n",
    "import keras\n",
    "from keras.models import Sequential\n",
    "from keras.layers import Dense\n",
    "from keras.wrappers.scikit_learn import KerasClassifier\n",
    "from keras.utils import np_utils\n",
    "from sklearn.model_selection import cross_val_score\n",
    "from sklearn.model_selection import KFold\n",
    "from sklearn.preprocessing import LabelEncoder\n",
    "from sklearn.pipeline import Pipeline\n",
    "import processing\n",
    "\n",
    "# fix random seed for reproducibility\n",
    "seed = 7\n",
    "np.random.seed(seed)\n",
    "\n",
    "# model = Sequential()\n",
    "# model.add(Dense(256, activation='sigmoid', input_dim=47236))\n",
    "# model.add(Dense(256, activation='sigmoid'))\n",
    "# model.add(Dense(256, activation='sigmoid'))\n",
    "# model.add(Dense(256, activation='sigmoid'))\n",
    "# model.add(Dense(103, activation='sigmoid'))\n",
    "# model.compile(optimizer='rmsprop', loss='binary_crossentropy', metrics=['accuracy'])"
   ]
  },
  {
   "cell_type": "code",
   "execution_count": 7,
   "metadata": {},
   "outputs": [],
   "source": [
    "from keras.models import load_model\n",
    "\n",
    "train_amt = 23149\n",
    "\n",
    "r1_data = processing.load_sparse_csr('data/random/first_data.npz')\n",
    "r1_lbls = processing.load_sparse_csr('data/random/first_labels.npz')\n",
    "\n",
    "r1_training = (r1_data[:train_amt], r1_lbls[:train_amt])\n",
    "test = (r1_data[train_amt:train_amt+50000], r1_lbls[train_amt:train_amt+50000])\n",
    "\n",
    "model = load_model('random_split_model.h5')"
   ]
  },
  {
   "cell_type": "code",
   "execution_count": 8,
   "metadata": {},
   "outputs": [
    {
     "name": "stdout",
     "output_type": "stream",
     "text": [
      "50000/50000 [==============================] - 92s 2ms/step\n"
     ]
    },
    {
     "name": "stderr",
     "output_type": "stream",
     "text": [
      "/Users/drewstone/.pyenv/versions/3.6.1/envs/transfer/lib/python3.6/site-packages/sklearn/metrics/classification.py:538: RuntimeWarning: invalid value encountered in double_scalars\n",
      "  mcc = cov_ytyp / np.sqrt(cov_ytyt * cov_ypyp)\n"
     ]
    },
    {
     "name": "stdout",
     "output_type": "stream",
     "text": [
      "best thresholds [ 0.1  0.2  0.1  0.1  0.7  0.7  0.2  0.4  0.1  0.1  0.1  0.1  0.1  0.1  0.3\n",
      "  0.3  0.1  0.1  0.1  0.1  0.1  0.1  0.1  0.1  0.1  0.1  0.1  0.1  0.1  0.1\n",
      "  0.1  0.1  0.1  0.5  0.1  0.1  0.1  0.2  0.1  0.1  0.1  0.1  0.1  0.1  0.2\n",
      "  0.1  0.6  0.1  0.1  0.1  0.1  0.1  0.1  0.1  0.1  0.1  0.1  0.1  0.1  0.4\n",
      "  0.1  0.1  0.1  0.1  0.1  0.1  0.1  0.1  0.1  0.1  0.4  0.3  0.1  0.1  0.1\n",
      "  0.1  0.1  0.1  0.1  0.1  0.1  0.1  0.1  0.1  0.1  0.1  0.1  0.4  0.1  0.6\n",
      "  0.1  0.1  0.1  0.5  0.1  0.4  0.2  0.2  0.4  0.2  0.1  0.1  0.6]\n",
      "----------------------------------------\n",
      "Matthews Correlation Coefficient\n",
      "Class wise accuracies\n",
      "[0.25599068463495411, 0.46318505445606128, 0.28104042302016513, 0.060254318800429515, 0.84813831999692568, 0.82547266837999844, 0.4798422342463094, 0.66686797058656189, 0.0, 0.28363515834683217, 0.24877639311277228, 0.21599067718059589, 0.0, 0.0, 0.54306538136965643, 0.54980306529633027, 0.0, 0.0, 0.23878381475124574, 0.0, 0.0, 0.26159093575370251, 0.30105287042920809, 0.0, 0.0, 0.0, 0.0, 0.15201284432474396, 0.0, 0.0, 0.26702602262158232, 0.27281255523779085, 0.23169791232398856, 0.82988325266503438, 0.10364664415090502, 0.32667675187091438, 0.0, 0.0, 0.0, 0.0, 0.0, 0.0, 0.0, 0.0, 0.46896897246422936, 0.26670675553572382, 0.54509817949052108, 0.0, 0.0, 0.0, 0.0, 0.26785481798914607, 0.0, 0.2382477879070127, 0.0, 0.12501949598098755, 0.0, 0.0, 0.43108315357006444, 0.66061080782262982, 0.23251644297526591, 0.0, 0.0, 0.0, 0.26310011452720161, 0.0, 0.0, 0.0, 0.0, 0.0, 0.85259121898064227, 0.59774624836117407, 0.0, 0.44165511792218459, 0.16890681214392375, 0.0, 0.0, 0.0, 0.0, 0.27754240811257641, 0.0, 0.0, 0.0, 0.46244430131902525, 0.0, 0.0, 0.0, 0.88428787187709035, 0.0, 0.66397559760208591, 0.22114628971843228, 0.0, 0.0, 0.67492832666589242, 0.39225125951152684, 0.73342059319599739, 0.59513883441497517, 0.43923382188724808, 0.74340608350808524, 0.55996291671424847, 0.11061809568915559, 0.37405667612051696, 0.86592340835740012]\n",
      "other statistics\n",
      "\n",
      "Fully correct output\n",
      "0\n",
      "0.0\n"
     ]
    }
   ],
   "source": [
    "from sklearn.metrics import matthews_corrcoef\n",
    "\n",
    "out = model.predict_proba(test[0].todense())\n",
    "out = np.array(out)\n",
    "\n",
    "threshold = np.arange(0.1,0.9,0.1)\n",
    "\n",
    "acc = []\n",
    "accuracies = []\n",
    "best_threshold = np.zeros(out.shape[1])\n",
    "for i in range(out.shape[1]):\n",
    "    y_prob = np.array(out[:,i])\n",
    "    for j in threshold:\n",
    "        y_pred = [1 if prob>=j else 0 for prob in y_prob]\n",
    "        acc.append( matthews_corrcoef(test[1].todense()[:,i],y_pred))\n",
    "    acc   = np.array(acc)\n",
    "    index = np.where(acc==acc.max()) \n",
    "    accuracies.append(acc.max()) \n",
    "    best_threshold[i] = threshold[index[0][0]]\n",
    "    acc = []\n",
    "\n",
    "print(\"best thresholds\", best_threshold)\n",
    "y_pred = np.array([[1 if out[i,j]>=best_threshold[j] else 0 for j in range(test[1].todense().shape[1])] for i in range(len(test[1].todense()))])\n",
    "\n",
    "print(\"-\"*40)\n",
    "print(\"Matthews Correlation Coefficient\")\n",
    "print(\"Class wise accuracies\")\n",
    "print(accuracies)\n",
    "\n",
    "print(\"other statistics\\n\")\n",
    "total_correctly_predicted = len([i for i in range(len(test[1].todense())) if (test[1].todense()[i]==y_pred[i]).sum() == 5])\n",
    "print(\"Fully correct output\")\n",
    "print(total_correctly_predicted)\n",
    "print(total_correctly_predicted/400.)"
   ]
  },
  {
   "cell_type": "code",
   "execution_count": null,
   "metadata": {},
   "outputs": [],
   "source": []
  }
 ],
 "metadata": {
  "kernelspec": {
   "display_name": "Python 3",
   "language": "python",
   "name": "python3"
  },
  "language_info": {
   "codemirror_mode": {
    "name": "ipython",
    "version": 3
   },
   "file_extension": ".py",
   "mimetype": "text/x-python",
   "name": "python",
   "nbconvert_exporter": "python",
   "pygments_lexer": "ipython3",
   "version": "3.6.1"
  }
 },
 "nbformat": 4,
 "nbformat_minor": 2
}
