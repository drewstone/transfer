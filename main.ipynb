{
 "cells": [
  {
   "cell_type": "code",
   "execution_count": 2,
   "metadata": {},
   "outputs": [],
   "source": [
    "from sklearn.datasets import fetch_rcv1\n",
    "rcv1 = fetch_rcv1()"
   ]
  },
  {
   "cell_type": "code",
   "execution_count": 3,
   "metadata": {},
   "outputs": [
    {
     "data": {
      "text/plain": [
       "{'DESCR': 'RCV1 dataset.\\n',\n",
       " 'data': <804414x47236 sparse matrix of type '<class 'numpy.float64'>'\n",
       " \twith 60915113 stored elements in Compressed Sparse Row format>,\n",
       " 'sample_id': array([  2286,   2287,   2288, ..., 810594, 810595, 810596], dtype=uint32),\n",
       " 'target': <804414x103 sparse matrix of type '<class 'numpy.uint8'>'\n",
       " \twith 2606875 stored elements in Compressed Sparse Row format>,\n",
       " 'target_names': array(['C11', 'C12', 'C13', 'C14', 'C15', 'C151', 'C1511', 'C152', 'C16',\n",
       "        'C17', 'C171', 'C172', 'C173', 'C174', 'C18', 'C181', 'C182',\n",
       "        'C183', 'C21', 'C22', 'C23', 'C24', 'C31', 'C311', 'C312', 'C313',\n",
       "        'C32', 'C33', 'C331', 'C34', 'C41', 'C411', 'C42', 'CCAT', 'E11',\n",
       "        'E12', 'E121', 'E13', 'E131', 'E132', 'E14', 'E141', 'E142', 'E143',\n",
       "        'E21', 'E211', 'E212', 'E31', 'E311', 'E312', 'E313', 'E41', 'E411',\n",
       "        'E51', 'E511', 'E512', 'E513', 'E61', 'E71', 'ECAT', 'G15', 'G151',\n",
       "        'G152', 'G153', 'G154', 'G155', 'G156', 'G157', 'G158', 'G159',\n",
       "        'GCAT', 'GCRIM', 'GDEF', 'GDIP', 'GDIS', 'GENT', 'GENV', 'GFAS',\n",
       "        'GHEA', 'GJOB', 'GMIL', 'GOBIT', 'GODD', 'GPOL', 'GPRO', 'GREL',\n",
       "        'GSCI', 'GSPO', 'GTOUR', 'GVIO', 'GVOTE', 'GWEA', 'GWELF', 'M11',\n",
       "        'M12', 'M13', 'M131', 'M132', 'M14', 'M141', 'M142', 'M143', 'MCAT'], dtype=object)}"
      ]
     },
     "execution_count": 3,
     "metadata": {},
     "output_type": "execute_result"
    }
   ],
   "source": [
    "rcv1"
   ]
  },
  {
   "cell_type": "code",
   "execution_count": 4,
   "metadata": {},
   "outputs": [
    {
     "name": "stderr",
     "output_type": "stream",
     "text": [
      "Using TensorFlow backend.\n"
     ]
    }
   ],
   "source": [
    "import numpy\n",
    "import pandas\n",
    "import keras\n",
    "from keras.models import Sequential\n",
    "from keras.layers import Dense\n",
    "from keras.wrappers.scikit_learn import KerasClassifier\n",
    "from keras.utils import np_utils\n",
    "from sklearn.model_selection import cross_val_score\n",
    "from sklearn.model_selection import KFold\n",
    "from sklearn.preprocessing import LabelEncoder\n",
    "from sklearn.pipeline import Pipeline\n",
    "\n",
    "# fix random seed for reproducibility\n",
    "seed = 7\n",
    "numpy.random.seed(seed)"
   ]
  },
  {
   "cell_type": "code",
   "execution_count": 5,
   "metadata": {},
   "outputs": [],
   "source": [
    "model = Sequential()\n",
    "model.add(Dense(256, activation='relu', input_dim=47236))\n",
    "model.add(Dense(103, activation='sigmoid'))\n",
    "model.compile(optimizer='rmsprop', loss='binary_crossentropy', metrics=['accuracy'])"
   ]
  },
  {
   "cell_type": "code",
   "execution_count": 28,
   "metadata": {},
   "outputs": [
    {
     "name": "stdout",
     "output_type": "stream",
     "text": [
      "Epoch 1/10\n",
      "23149/23149 [==============================] - 159s 7ms/step - loss: 0.0675 - acc: 0.9806\n",
      "Epoch 2/10\n",
      "23149/23149 [==============================] - 152s 7ms/step - loss: 0.0311 - acc: 0.9896 1s - loss: 0.0312 - ac\n",
      "Epoch 3/10\n",
      "23149/23149 [==============================] - 151s 7ms/step - loss: 0.0231 - acc: 0.9922\n",
      "Epoch 4/10\n",
      "23149/23149 [==============================] - 153s 7ms/step - loss: 0.0187 - acc: 0.9937\n",
      "Epoch 5/10\n",
      "23149/23149 [==============================] - 153s 7ms/step - loss: 0.0156 - acc: 0.9949\n",
      "Epoch 6/10\n",
      "23149/23149 [==============================] - 154s 7ms/step - loss: 0.0132 - acc: 0.9957\n",
      "Epoch 7/10\n",
      "23149/23149 [==============================] - 179s 8ms/step - loss: 0.0113 - acc: 0.9965\n",
      "Epoch 8/10\n",
      "23149/23149 [==============================] - 165s 7ms/step - loss: 0.0097 - acc: 0.9970\n",
      "Epoch 9/10\n",
      "23149/23149 [==============================] - 170s 7ms/step - loss: 0.0084 - acc: 0.9975\n",
      "Epoch 10/10\n",
      "23149/23149 [==============================] - 161s 7ms/step - loss: 0.0073 - acc: 0.9978\n"
     ]
    },
    {
     "data": {
      "text/plain": [
       "<keras.callbacks.History at 0x143253390>"
      ]
     },
     "execution_count": 28,
     "metadata": {},
     "output_type": "execute_result"
    }
   ],
   "source": [
    "data = rcv1.data[:23149]\n",
    "labels = rcv1.target[:23149]\n",
    "model.fit(data.todense(), labels.todense(), batch_size=32)"
   ]
  },
  {
   "cell_type": "code",
   "execution_count": 30,
   "metadata": {},
   "outputs": [
    {
     "name": "stdout",
     "output_type": "stream",
     "text": [
      "23149/23149 [==============================] - 28s 1ms/step\n"
     ]
    }
   ],
   "source": [
    "x_test = rcv1.data[23149:46298]\n",
    "y_test = rcv1.target[23149:46298]\n",
    "score = model.evaluate(x_test.todense(), y_test.todense(), batch_size=128)"
   ]
  },
  {
   "cell_type": "code",
   "execution_count": null,
   "metadata": {},
   "outputs": [],
   "source": []
  }
 ],
 "metadata": {
  "kernelspec": {
   "display_name": "Python 3",
   "language": "python",
   "name": "python3"
  },
  "language_info": {
   "codemirror_mode": {
    "name": "ipython",
    "version": 3
   },
   "file_extension": ".py",
   "mimetype": "text/x-python",
   "name": "python",
   "nbconvert_exporter": "python",
   "pygments_lexer": "ipython3",
   "version": "3.6.1"
  }
 },
 "nbformat": 4,
 "nbformat_minor": 2
}
